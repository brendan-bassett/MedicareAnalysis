{
 "cells": [
  {
   "cell_type": "code",
   "execution_count": 0,
   "metadata": {
    "application/vnd.databricks.v1+cell": {
     "cellMetadata": {},
     "inputWidgets": {},
     "nuid": "adf52a73-9776-4e24-ba20-3e18a7bf3b09",
     "showTitle": false,
     "tableResultSettingsMap": {},
     "title": ""
    }
   },
   "outputs": [],
   "source": [
    "\n",
    "DROP TABLE IF EXISTS patients_by_state;\n",
    "CREATE TABLE patients_by_state (\n",
    "  pt_count INT,\n",
    "  state STRING, \n",
    "  latitude DOUBLE,\n",
    "  longitude DOUBLE\n",
    ");\n",
    "\n",
    "INSERT INTO patients_by_state\n",
    "SELECT COUNT(DISTINCT patient_id) AS pt_count, s.state, s.latitude, s.longitude\n",
    "FROM ma_beneficiarysummary AS bs\n",
    "INNER JOIN ma_statecodes AS s\n",
    "ON bs.sp_state_code = s.state_code\n",
    "GROUP BY s.state, s.latitude, s.longitude\n",
    "ORDER BY pt_count DESC;\n",
    "\n",
    "-- --------------------------------------------------------------------------------------------------------------------\n",
    "\n",
    "-- Ensure that the majority of the county codes in ma_beneficiarysummaries are also in the ma_countycodes table.\n",
    "\n",
    "SELECT COUNT(DISTINCT ssa_statecounty) FROM ma_beneficiarysummary;\n",
    "\n",
    "--      RESULT: 3088\n",
    "\n",
    "SELECT COUNT(DISTINCT ma_beneficiarysummary.ssa_statecounty) FROM ma_beneficiarysummary\n",
    "LEFT JOIN ma_countycodes \n",
    "ON ma_beneficiarysummary.ssa_statecounty = ma_countycodes.ssa_statecounty\n",
    "WHERE ma_countycodes.ssa_statecounty IS NOT NULL;\n",
    "\n",
    "--      RESULT: 2996\n",
    "\n",
    "--  Most county codes in the ma_beneficiarysummary table are also in the ma_countycodes table.\n",
    "\n",
    "\n",
    "DROP TABLE IF EXISTS patients_by_counties;\n",
    "CREATE TABLE patients_by_counties (\n",
    "  pt_count INT,\n",
    "  county STRING, \n",
    "  state STRING, \n",
    "  latitude DOUBLE,\n",
    "  longitude DOUBLE\n",
    ");\n",
    "\n",
    "INSERT INTO patients_by_counties\n",
    "SELECT COUNT(DISTINCT patient_id) AS pt_count, c.county, c.state, c.latitude, c.longitude\n",
    "FROM ma_beneficiarysummary AS bs\n",
    "INNER JOIN ma_countycodes AS c\n",
    "ON bs.ssa_statecounty = c.ssa_statecounty\n",
    "GROUP BY c.county, c.state, c.latitude, c.longitude\n",
    "ORDER BY pt_count DESC;\n",
    "\n",
    "SELECT * FROM patients_by_counties\n",
    "ORDER BY pt_count DESC;\n",
    "\n",
    "\n",
    "\n",
    "\n",
    "\n",
    "\n"
   ]
  }
 ],
 "metadata": {
  "application/vnd.databricks.v1+notebook": {
   "computePreferences": null,
   "dashboards": [],
   "environmentMetadata": null,
   "inputWidgetPreferences": null,
   "language": "sql",
   "notebookMetadata": {
    "pythonIndentUnit": 4,
    "sqlQueryOptions": {
     "applyAutoLimit": true,
     "catalog": "medicare_analysis",
     "schema": "medicare-analysis"
    }
   },
   "notebookName": "PatientCountByStateCounty.sql.dbquery.ipynb",
   "widgets": {}
  },
  "language_info": {
   "name": "sql"
  }
 },
 "nbformat": 4,
 "nbformat_minor": 0
}
