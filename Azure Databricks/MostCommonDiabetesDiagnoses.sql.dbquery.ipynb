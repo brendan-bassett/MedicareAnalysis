{
 "cells": [
  {
   "cell_type": "code",
   "execution_count": 0,
   "metadata": {
    "application/vnd.databricks.v1+cell": {
     "cellMetadata": {},
     "inputWidgets": {},
     "nuid": "0e6de1f4-a5b7-46e7-a39a-b331a0f71632",
     "showTitle": false,
     "tableResultSettingsMap": {},
     "title": ""
    }
   },
   "outputs": [],
   "source": [
    "\n",
    "-- List the 20 most common ICD diagnosis codes used in carrier claims for patients with diabetes.\n",
    "\n",
    "--      We have to create a table for this data so the descriptions can be shown with the icd9 \n",
    "--          codes without creating issues with the 'group by' statement.\n",
    "\n",
    "\n",
    "DROP TABLE IF EXISTS cc_icd_diabetes;\n",
    "CREATE TABLE cc_icd_diabetes (\n",
    "    icd_count BIGINT,\n",
    "    icd VARCHAR(7),\n",
    "    desc_long VARCHAR(222)\n",
    ");\n",
    "\n",
    "INSERT INTO cc_icd_diabetes (icd, icd_count)\n",
    "SELECT i.icd, COUNT(i.icd) as icd_count\n",
    "FROM ma_beneficiarysummary b \n",
    "    INNER JOIN ma_carrierclaims c \n",
    "        ON b.bs_id = c.bs_id\n",
    "    INNER JOIN ma_cc_icd_dgns d\n",
    "        ON c.clm_id = d.clm_id\n",
    "    INNER JOIN ma_icd i\n",
    "        ON d.icd_id = i.icd_id\n",
    "WHERE b.sp_diabetes = True\n",
    "GROUP BY i.icd\n",
    "ORDER BY icd_count DESC\n",
    "LIMIT 20;\n",
    "\n",
    "MERGE INTO cc_icd_diabetes c\n",
    "USING ma_icd i\n",
    "ON c.icd = i.icd\n",
    "WHEN MATCHED THEN\n",
    "UPDATE SET c.desc_long = i.desc_long;\n",
    "\n",
    "SELECT * FROM cc_icd_diabetes ORDER BY icd_count DESC;\n",
    "\n",
    "DROP TABLE IF EXISTS cc_icd_diabetes;\n",
    "\n",
    "\n",
    "\n",
    "\n",
    "\n",
    "\n"
   ]
  }
 ],
 "metadata": {
  "application/vnd.databricks.v1+notebook": {
   "computePreferences": null,
   "dashboards": [],
   "environmentMetadata": null,
   "inputWidgetPreferences": null,
   "language": "sql",
   "notebookMetadata": {
    "sqlQueryOptions": {
     "applyAutoLimit": true,
     "catalog": "medicare_analysis",
     "schema": "medicare-analysis"
    }
   },
   "notebookName": "MostCommonDiabetesDiagnoses.sql.dbquery.ipynb",
   "widgets": {}
  },
  "language_info": {
   "name": "sql"
  }
 },
 "nbformat": 4,
 "nbformat_minor": 0
}
