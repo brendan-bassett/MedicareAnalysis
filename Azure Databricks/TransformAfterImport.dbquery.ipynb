{
 "cells": [
  {
   "cell_type": "code",
   "execution_count": 0,
   "metadata": {
    "application/vnd.databricks.v1+cell": {
     "cellMetadata": {
      "byteLimit": 10485760,
      "rowLimit": 1000
     },
     "inputWidgets": {},
     "nuid": "79eaeabc-0fb0-42c7-9dd1-09eb7a558eb9",
     "showTitle": false,
     "tableResultSettingsMap": {},
     "title": ""
    }
   },
   "outputs": [],
   "source": [
    "\n",
    "\n",
    "ALTER TABLE ma_beneficiarysummary SET TBLPROPERTIES ('delta.columnMapping.mode' = 'name');\n",
    "ALTER TABLE ma_carrierclaims SET TBLPROPERTIES ('delta.columnMapping.mode' = 'name');\n",
    "ALTER TABLE ma_carrierclaims_lineitems SET TBLPROPERTIES ('delta.columnMapping.mode' = 'name');\n",
    "ALTER TABLE ma_cc_icd_9_dgns SET TBLPROPERTIES ('delta.columnMapping.mode' = 'name');\n",
    "ALTER TABLE ma_countycodes SET TBLPROPERTIES ('delta.columnMapping.mode' = 'name');\n",
    "ALTER TABLE ma_hcpcs SET TBLPROPERTIES ('delta.columnMapping.mode' = 'name');\n",
    "ALTER TABLE ma_ic_icd_9_dgns SET TBLPROPERTIES ('delta.columnMapping.mode' = 'name');\n",
    "ALTER TABLE ma_ic_icd_9_prcdr SET TBLPROPERTIES ('delta.columnMapping.mode' = 'name');\n",
    "ALTER TABLE ma_icd SET TBLPROPERTIES ('delta.columnMapping.mode' = 'name');\n",
    "ALTER TABLE ma_inpatientclaims SET TBLPROPERTIES ('delta.columnMapping.mode' = 'name');\n",
    "ALTER TABLE ma_line_prcsg_ind_cd SET TBLPROPERTIES ('delta.columnMapping.mode' = 'name');\n",
    "ALTER TABLE ma_ndc SET TBLPROPERTIES ('delta.columnMapping.mode' = 'name');\n",
    "ALTER TABLE ma_oc_hcpcs SET TBLPROPERTIES ('delta.columnMapping.mode' = 'name');\n",
    "ALTER TABLE ma_oc_icd_9_dgns SET TBLPROPERTIES ('delta.columnMapping.mode' = 'name');\n",
    "ALTER TABLE ma_oc_icd_9_prcdr SET TBLPROPERTIES ('delta.columnMapping.mode' = 'name');\n",
    "ALTER TABLE ma_outpatientclaims SET TBLPROPERTIES ('delta.columnMapping.mode' = 'name');\n",
    "ALTER TABLE ma_rxdrugevents SET TBLPROPERTIES ('delta.columnMapping.mode' = 'name');\n",
    "ALTER TABLE ma_statecodes SET TBLPROPERTIES ('delta.columnMapping.mode' = 'name');\n",
    "\n",
    "ALTER TABLE ma_beneficiarysummary DROP COLUMN _rescued_data;\n",
    "ALTER TABLE ma_carrierclaims DROP COLUMN _rescued_data;\n",
    "ALTER TABLE ma_carrierclaims_lineitems DROP COLUMN _rescued_data;\n",
    "ALTER TABLE ma_cc_icd_9_dgns DROP COLUMN _rescued_data;\n",
    "ALTER TABLE ma_countycodes DROP COLUMN _rescued_data;\n",
    "ALTER TABLE ma_hcpcs DROP COLUMN _rescued_data;\n",
    "ALTER TABLE ma_ic_icd_9_dgns DROP COLUMN _rescued_data;\n",
    "ALTER TABLE ma_ic_icd_9_prcdr DROP COLUMN _rescued_data;\n",
    "ALTER TABLE ma_icd DROP COLUMN _rescued_data;\n",
    "ALTER TABLE ma_inpatientclaims DROP COLUMN _rescued_data;\n",
    "ALTER TABLE ma_line_prcsg_ind_cd DROP COLUMN _rescued_data;\n",
    "ALTER TABLE ma_ndc DROP COLUMN _rescued_data;\n",
    "ALTER TABLE ma_oc_hcpcs DROP COLUMN _rescued_data;\n",
    "ALTER TABLE ma_oc_icd_9_dgns DROP COLUMN _rescued_data;\n",
    "ALTER TABLE ma_oc_icd_9_prcdr DROP COLUMN _rescued_data;\n",
    "ALTER TABLE ma_outpatientclaims DROP COLUMN _rescued_data;\n",
    "ALTER TABLE ma_rxdrugevents DROP COLUMN _rescued_data;\n",
    "ALTER TABLE ma_statecodes DROP COLUMN _rescued_data;\n",
    "\n",
    "\n",
    "ALTER TABLE ma_cc_icd_9_dgns RENAME TO ma_cc_icd_dgns;\n",
    "ALTER TABLE ma_ic_icd_9_dgns RENAME TO ma_ic_icd_dgns;\n",
    "ALTER TABLE ma_ic_icd_9_prcdr RENAME TO ma_ic_icd_prcdr;\n",
    "ALTER TABLE ma_oc_icd_9_dgns RENAME TO ma_oc_icd_dgns;\n",
    "ALTER TABLE ma_oc_icd_9_prcdr RENAME TO ma_oc_icd_prcdr;\n",
    "\n",
    "ALTER TABLE ma_icd RENAME COLUMN icd9 TO icd;\n",
    "ALTER TABLE ma_cc_icd_dgns RENAME COLUMN icd9_id TO icd_id;\n",
    "ALTER TABLE ma_ic_icd_dgns RENAME COLUMN icd9_id TO icd_id;\n",
    "ALTER TABLE ma_ic_icd_prcdr RENAME COLUMN icd9_id TO icd_id;\n",
    "ALTER TABLE ma_oc_icd_dgns RENAME COLUMN icd9_id TO icd_id;\n",
    "ALTER TABLE ma_oc_icd_prcdr RENAME COLUMN icd9_id TO icd_id;\n",
    "\n",
    "ALTER TABLE ma_beneficiarysummary RENAME COLUMN sp_state_code TO ssa_state;\n",
    "\n"
   ]
  }
 ],
 "metadata": {
  "application/vnd.databricks.v1+notebook": {
   "computePreferences": null,
   "dashboards": [],
   "environmentMetadata": null,
   "inputWidgetPreferences": null,
   "language": "sql",
   "notebookMetadata": {
    "sqlQueryOptions": {
     "applyAutoLimit": true,
     "catalog": "medicare_analysis",
     "schema": "medicare-analysis"
    }
   },
   "notebookName": "TransformAfterImport.dbquery.ipynb",
   "widgets": {}
  },
  "language_info": {
   "name": "sql"
  }
 },
 "nbformat": 4,
 "nbformat_minor": 0
}
